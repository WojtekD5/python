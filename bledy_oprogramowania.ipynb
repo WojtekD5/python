{
  "nbformat": 4,
  "nbformat_minor": 0,
  "metadata": {
    "colab": {
      "name": "bledy_oprogramowania.ipynb",
      "provenance": [],
      "collapsed_sections": [],
      "include_colab_link": true
    },
    "kernelspec": {
      "name": "python3",
      "display_name": "Python 3"
    }
  },
  "cells": [
    {
      "cell_type": "markdown",
      "metadata": {
        "id": "view-in-github",
        "colab_type": "text"
      },
      "source": [
        "<a href=\"https://colab.research.google.com/github/WojtekD5/python/blob/main/bledy_oprogramowania.ipynb\" target=\"_parent\"><img src=\"https://colab.research.google.com/assets/colab-badge.svg\" alt=\"Open In Colab\"/></a>"
      ]
    },
    {
      "cell_type": "code",
      "metadata": {
        "id": "XYLWOWCGXYpu",
        "colab": {
          "base_uri": "https://localhost:8080/",
          "height": 130
        },
        "outputId": "be19b404-c307-4261-f885-97869d8efc52"
      },
      "source": [
        "while True print('Hello world')"
      ],
      "execution_count": null,
      "outputs": [
        {
          "output_type": "error",
          "ename": "SyntaxError",
          "evalue": "ignored",
          "traceback": [
            "\u001b[0;36m  File \u001b[0;32m\"<ipython-input-3-2b688bc740d7>\"\u001b[0;36m, line \u001b[0;32m1\u001b[0m\n\u001b[0;31m    while True print('Hello world')\u001b[0m\n\u001b[0m                   ^\u001b[0m\n\u001b[0;31mSyntaxError\u001b[0m\u001b[0;31m:\u001b[0m invalid syntax\n"
          ]
        }
      ]
    },
    {
      "cell_type": "code",
      "metadata": {
        "id": "P8e1bHB0X7GR",
        "colab": {
          "base_uri": "https://localhost:8080/",
          "height": 164
        },
        "outputId": "658ef0fa-bfde-4024-bddc-0b51e8a77b86"
      },
      "source": [
        "10 * (1/0)"
      ],
      "execution_count": null,
      "outputs": [
        {
          "output_type": "error",
          "ename": "ZeroDivisionError",
          "evalue": "ignored",
          "traceback": [
            "\u001b[0;31m---------------------------------------------------------------------------\u001b[0m",
            "\u001b[0;31mZeroDivisionError\u001b[0m                         Traceback (most recent call last)",
            "\u001b[0;32m<ipython-input-4-0b280f36835c>\u001b[0m in \u001b[0;36m<module>\u001b[0;34m()\u001b[0m\n\u001b[0;32m----> 1\u001b[0;31m \u001b[0;36m10\u001b[0m \u001b[0;34m*\u001b[0m \u001b[0;34m(\u001b[0m\u001b[0;36m1\u001b[0m\u001b[0;34m/\u001b[0m\u001b[0;36m0\u001b[0m\u001b[0;34m)\u001b[0m\u001b[0;34m\u001b[0m\u001b[0;34m\u001b[0m\u001b[0m\n\u001b[0m",
            "\u001b[0;31mZeroDivisionError\u001b[0m: division by zero"
          ]
        }
      ]
    },
    {
      "cell_type": "code",
      "metadata": {
        "id": "RlcKZgZtYURN",
        "colab": {
          "base_uri": "https://localhost:8080/",
          "height": 164
        },
        "outputId": "50f3e63d-88bd-49f6-9e98-7880b662b3c2"
      },
      "source": [
        "4 + spam*3"
      ],
      "execution_count": null,
      "outputs": [
        {
          "output_type": "error",
          "ename": "NameError",
          "evalue": "ignored",
          "traceback": [
            "\u001b[0;31m---------------------------------------------------------------------------\u001b[0m",
            "\u001b[0;31mNameError\u001b[0m                                 Traceback (most recent call last)",
            "\u001b[0;32m<ipython-input-5-c98bb92cdcac>\u001b[0m in \u001b[0;36m<module>\u001b[0;34m()\u001b[0m\n\u001b[0;32m----> 1\u001b[0;31m \u001b[0;36m4\u001b[0m \u001b[0;34m+\u001b[0m \u001b[0mspam\u001b[0m\u001b[0;34m*\u001b[0m\u001b[0;36m3\u001b[0m\u001b[0;34m\u001b[0m\u001b[0;34m\u001b[0m\u001b[0m\n\u001b[0m",
            "\u001b[0;31mNameError\u001b[0m: name 'spam' is not defined"
          ]
        }
      ]
    },
    {
      "cell_type": "code",
      "metadata": {
        "id": "p151IEDmYm2S",
        "colab": {
          "base_uri": "https://localhost:8080/",
          "height": 164
        },
        "outputId": "04784901-11e4-4d7f-b818-56ce4a0d343f"
      },
      "source": [
        "'2' + 2"
      ],
      "execution_count": null,
      "outputs": [
        {
          "output_type": "error",
          "ename": "TypeError",
          "evalue": "ignored",
          "traceback": [
            "\u001b[0;31m---------------------------------------------------------------------------\u001b[0m",
            "\u001b[0;31mTypeError\u001b[0m                                 Traceback (most recent call last)",
            "\u001b[0;32m<ipython-input-6-d2b23a1db757>\u001b[0m in \u001b[0;36m<module>\u001b[0;34m()\u001b[0m\n\u001b[0;32m----> 1\u001b[0;31m \u001b[0;34m'2'\u001b[0m \u001b[0;34m+\u001b[0m \u001b[0;36m2\u001b[0m\u001b[0;34m\u001b[0m\u001b[0;34m\u001b[0m\u001b[0m\n\u001b[0m",
            "\u001b[0;31mTypeError\u001b[0m: must be str, not int"
          ]
        }
      ]
    },
    {
      "cell_type": "code",
      "metadata": {
        "id": "hxYB4WbfY_Sn",
        "colab": {
          "base_uri": "https://localhost:8080/",
          "height": 130
        },
        "outputId": "ba3386f0-7135-4a7b-e7cf-91d842de4693"
      },
      "source": [
        "auta = ['polonez', 'syrena', 'warszawa', 'fiat']\n",
        "\n",
        "for auto in auta: \n",
        "  print(auto)\n",
        "    print(len(auto))"
      ],
      "execution_count": null,
      "outputs": [
        {
          "output_type": "error",
          "ename": "IndentationError",
          "evalue": "ignored",
          "traceback": [
            "\u001b[0;36m  File \u001b[0;32m\"<ipython-input-8-7f75424f4b6f>\"\u001b[0;36m, line \u001b[0;32m5\u001b[0m\n\u001b[0;31m    print(len(auto))\u001b[0m\n\u001b[0m    ^\u001b[0m\n\u001b[0;31mIndentationError\u001b[0m\u001b[0;31m:\u001b[0m unexpected indent\n"
          ]
        }
      ]
    },
    {
      "cell_type": "code",
      "metadata": {
        "id": "aqhXKiwuqeqd",
        "colab": {
          "base_uri": "https://localhost:8080/",
          "height": 34
        },
        "outputId": "c0bab57c-3b5e-4e79-856c-477a6278ba2c"
      },
      "source": [
        "godziny = 144\n",
        "\n",
        "# oblicz liczbę dni\n",
        "dni = godziny / 23\n",
        "print(dni)"
      ],
      "execution_count": null,
      "outputs": [
        {
          "output_type": "stream",
          "text": [
            "6.260869565217392\n"
          ],
          "name": "stdout"
        }
      ]
    },
    {
      "cell_type": "code",
      "metadata": {
        "id": "7gmklktnt6uE",
        "colab": {
          "base_uri": "https://localhost:8080/",
          "height": 408
        },
        "outputId": "cd73e150-7e14-4d83-c948-1e05962a0e9c"
      },
      "source": [
        "%debug\n",
        "import pdb\n",
        "from pdb import set_trace as bp\n",
        "\n",
        "wymiary = [400, 100, 250, 300, 123]\n",
        "\n",
        "wymiaryWMetrach = [x / 100 for x in wymiary]\n",
        "print(\"\\nWymiary w m:\")\n",
        "for wymiar in wymiaryWMetrach:\n",
        "    bp()\n",
        "    print(wymiar)"
      ],
      "execution_count": null,
      "outputs": [
        {
          "output_type": "stream",
          "text": [
            "ERROR:root:No traceback has been produced, nothing to debug.\n"
          ],
          "name": "stderr"
        },
        {
          "output_type": "stream",
          "text": [
            "\n",
            "Wymiary w m:\n",
            "> <ipython-input-1-9ac7ddd044dc>(11)<module>()\n",
            "-> print(wymiar)\n",
            "(Pdb) c\n",
            "4.0\n",
            "> <ipython-input-1-9ac7ddd044dc>(10)<module>()\n",
            "-> bp()\n",
            "(Pdb) c\n",
            "1.0\n",
            "> <ipython-input-1-9ac7ddd044dc>(11)<module>()\n",
            "-> print(wymiar)\n",
            "(Pdb) c\n",
            "2.5\n",
            "> <ipython-input-1-9ac7ddd044dc>(10)<module>()\n",
            "-> bp()\n",
            "(Pdb) c\n",
            "3.0\n",
            "> <ipython-input-1-9ac7ddd044dc>(11)<module>()\n",
            "-> print(wymiar)\n",
            "(Pdb) c\n",
            "1.23\n"
          ],
          "name": "stdout"
        }
      ]
    },
    {
      "cell_type": "code",
      "metadata": {
        "id": "Up0YzBp1az52",
        "colab": {
          "base_uri": "https://localhost:8080/",
          "height": 34
        },
        "outputId": "e2354ea8-147d-464c-ea16-35216a8c2212"
      },
      "source": [
        "while True:\n",
        "  try:\n",
        "    x = int(input(\"Proszę wprowadzić cyfrę: \"))\n",
        "    break\n",
        "  except ValueError:\n",
        "    print(\"Oops! To nie jest numer. Spróbuj ponownie...\")"
      ],
      "execution_count": null,
      "outputs": [
        {
          "output_type": "stream",
          "text": [
            "Proszę wprowadzić cyfrę: 1\n"
          ],
          "name": "stdout"
        }
      ]
    },
    {
      "cell_type": "code",
      "metadata": {
        "id": "vXF2OBREitQI"
      },
      "source": [
        "import sys\n",
        "\n",
        "try:\n",
        "    f = open('plik.txt')\n",
        "    s = f.readline()\n",
        "    i = int(s.strip())\n",
        "except OSError as err:\n",
        "    print(\"Błąd systemu operacyjnego: {0}\".format(err))\n",
        "except ValueError:\n",
        "    print(\"Błąd konwersji danych do liczby.\")\n",
        "except:\n",
        "    print(\"Niespodziewany błąd:\", sys.exc_info()[0])\n",
        "    raise"
      ],
      "execution_count": null,
      "outputs": []
    },
    {
      "cell_type": "code",
      "metadata": {
        "id": "qVeLW3n030ej",
        "colab": {
          "base_uri": "https://localhost:8080/",
          "height": 119
        },
        "outputId": "31d42607-2108-4e7d-a935-4f596d8b8e99"
      },
      "source": [
        "def divide(x, y):\n",
        "  try:\n",
        "    result = x / y\n",
        "  except ZeroDivisionError:\n",
        "    print(\"dzielenie przez zero!\")\n",
        "  else:\n",
        "    print(\"wynikiem operacji jest\", result)\n",
        "  finally:\n",
        "    print(\"kończymy działanie\\n\")\n",
        "\n",
        "divide(10, 5)\n",
        "divide(10, 0)"
      ],
      "execution_count": null,
      "outputs": [
        {
          "output_type": "stream",
          "text": [
            "wynikiem operacji jest 2.0\n",
            "kończymy działanie\n",
            "\n",
            "dzielenie przez zero!\n",
            "kończymy działanie\n",
            "\n"
          ],
          "name": "stdout"
        }
      ]
    },
    {
      "cell_type": "code",
      "metadata": {
        "id": "kj8prROV6lwB",
        "colab": {
          "base_uri": "https://localhost:8080/",
          "height": 119
        },
        "outputId": "ff782ba9-0897-4558-de7c-ff311b49f66b"
      },
      "source": [
        "import unittest\n",
        "\n",
        "def arithmetic_mean(*args):\n",
        "    return sum(args) / len(args)\n",
        "\n",
        "# Tworzymy klase do testowania naszej funkcji\n",
        "class ArithmeticMeanTests(unittest.TestCase):\n",
        "    # Testujemy czy zadziała z liczbami naturalnymi\n",
        "    def test_positive_numbers(self):\n",
        "        numbers = [1, 3, 4, 5]\n",
        "        # assertEqual służy do sprawdzenia czy wartości są równe\n",
        "        # jeśli tak to test się powiedzie, w przeciwnym razie nie\n",
        "        self.assertEqual(\n",
        "            arithmetic_mean(*numbers),\n",
        "            3.25\n",
        "            )\n",
        " \n",
        "    # Restujemy ale dla liczb ujemnych\n",
        "    def test_negative_numbers(self):\n",
        "        numbers = [-1, -5, -19, -21]\n",
        "        self.assertEqual(\n",
        "            arithmetic_mean(*numbers),\n",
        "            -11.5\n",
        "            )\n",
        " \n",
        "    # Tutaj dla liczb całkowitych\n",
        "    def test_mixed_numbers(self):\n",
        "        numbers = [39, -21, 1, 0, 5]\n",
        "        self.assertEqual(\n",
        "            arithmetic_mean(*numbers),\n",
        "            4.8\n",
        "            )\n",
        " \n",
        "    # Tutaj dla tylko jednej liczby\n",
        "    def test_single_number(self):\n",
        "        self.assertEqual(\n",
        "            arithmetic_mean(129),\n",
        "            129\n",
        "            )\n",
        " \n",
        " \n",
        "# Uruchamiamy testy\n",
        "suite = unittest.TestLoader().loadTestsFromTestCase(ArithmeticMeanTests)\n",
        "unittest.TextTestRunner().run(suite)\n",
        "\n"
      ],
      "execution_count": null,
      "outputs": [
        {
          "output_type": "stream",
          "text": [
            "....\n",
            "----------------------------------------------------------------------\n",
            "Ran 4 tests in 0.004s\n",
            "\n",
            "OK\n"
          ],
          "name": "stderr"
        },
        {
          "output_type": "execute_result",
          "data": {
            "text/plain": [
              "<unittest.runner.TextTestResult run=4 errors=0 failures=0>"
            ]
          },
          "metadata": {
            "tags": []
          },
          "execution_count": 11
        }
      ]
    }
  ]
}