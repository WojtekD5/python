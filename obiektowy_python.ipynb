{
  "nbformat": 4,
  "nbformat_minor": 0,
  "metadata": {
    "colab": {
      "name": "obiektowy_python.ipynb",
      "provenance": [],
      "collapsed_sections": [],
      "include_colab_link": true
    },
    "kernelspec": {
      "name": "python3",
      "display_name": "Python 3"
    },
    "language_info": {
      "name": "python"
    }
  },
  "cells": [
    {
      "cell_type": "markdown",
      "metadata": {
        "id": "view-in-github",
        "colab_type": "text"
      },
      "source": [
        "<a href=\"https://colab.research.google.com/github/WojtekD5/python/blob/main/obiektowy_python.ipynb\" target=\"_parent\"><img src=\"https://colab.research.google.com/assets/colab-badge.svg\" alt=\"Open In Colab\"/></a>"
      ]
    },
    {
      "cell_type": "code",
      "metadata": {
        "id": "dwohhbrV4QJY"
      },
      "source": [
        "from abc import ABC, abstractmethod"
      ],
      "execution_count": null,
      "outputs": []
    },
    {
      "cell_type": "code",
      "metadata": {
        "id": "Zp9Udy8I0--r"
      },
      "source": [
        "napis = \"ala ma kota\"\n",
        "\n",
        "#dir(napis)\n",
        "#for s in dir(napis):\n",
        "#  eval(f\"print(f'napis.{s}   -> ', napis.{s})\")\n",
        "\n",
        "print(napis.__doc__)"
      ],
      "execution_count": null,
      "outputs": []
    },
    {
      "cell_type": "code",
      "metadata": {
        "id": "_9Gg3w5rE-fz"
      },
      "source": [
        "class Samochod:\n",
        "  \"Klasa definiująca samochód\"\n",
        "  def __init__(self, marka, kolor, drzwi):\n",
        "    self.marka = marka    \n",
        "    self.kolor = kolor\n",
        "    self.drzwi = drzwi"
      ],
      "execution_count": null,
      "outputs": []
    },
    {
      "cell_type": "code",
      "metadata": {
        "id": "gT2_G4cepR-L"
      },
      "source": [
        "class Punkt:\n",
        "  \"\"\"Klasa definiujaca punkt w przestrzeni dwuwymiarowej\"\"\"\n",
        "  def __init__(self, x, y):\n",
        "    self.x = x\n",
        "    self.y = y"
      ],
      "execution_count": null,
      "outputs": []
    },
    {
      "cell_type": "code",
      "metadata": {
        "id": "n6CBby0i6fMM"
      },
      "source": [
        "dir()"
      ],
      "execution_count": null,
      "outputs": []
    },
    {
      "cell_type": "code",
      "metadata": {
        "id": "Zk-4Io1YFQWF"
      },
      "source": [
        "ZoltaHonda = Samochod(\"Honda\", \"zółty\", 4)\n",
        "CzerwonaSkoda = Samochod(\"Skoda\", \"czerwony\", 5)\n",
        "\n",
        "P0 = Punkt(0, 0)"
      ],
      "execution_count": null,
      "outputs": []
    },
    {
      "cell_type": "code",
      "metadata": {
        "id": "dGcZH2BO6xFY"
      },
      "source": [
        "print(ZoltaHonda.marka, ZoltaHonda.kolor)\n",
        "print(CzerwonaSkoda.marka, CzerwonaSkoda.kolor)"
      ],
      "execution_count": null,
      "outputs": []
    },
    {
      "cell_type": "code",
      "metadata": {
        "id": "E9EnXoiSxaC5"
      },
      "source": [
        "class Samochod:\n",
        "  \"Klasa definiująca samochód\"\n",
        "  def __init__(self):\n",
        "    self.marka = \"Honda\"\n",
        "    self.kolor = \"czerwony\"\n",
        "    drzwi = 5\n",
        "\n",
        "samochod = Samochod()\n",
        "print(f\"{samochod.marka} {samochod.kolor}\")\n",
        "\n",
        "samochod.drzwi = 15\n",
        "print(samochod.drzwi)\n"
      ],
      "execution_count": null,
      "outputs": []
    },
    {
      "cell_type": "code",
      "metadata": {
        "id": "wKB6pGU-OQ_l"
      },
      "source": [
        "dir(samochod)"
      ],
      "execution_count": null,
      "outputs": []
    },
    {
      "cell_type": "code",
      "metadata": {
        "id": "YqZ3isEPOV9s"
      },
      "source": [
        "print(samochod.__doc__)"
      ],
      "execution_count": null,
      "outputs": []
    },
    {
      "cell_type": "code",
      "metadata": {
        "id": "cYTQNprWy93O"
      },
      "source": [
        "for s in dir(samochod):\n",
        "  eval(f\"print(f'samochod.{s}   -> ', samochod.{s})\")\n"
      ],
      "execution_count": null,
      "outputs": []
    },
    {
      "cell_type": "code",
      "metadata": {
        "id": "TOqBv60tEfEX"
      },
      "source": [
        "class Samochod:\n",
        "  \"Klasa definiujaca samochod\"\n",
        "  Predkosc = 120\n",
        "  def __init__(self):\n",
        "    self.marka = \"Honda\"\n",
        "    self.kolor = \"czerwony\"\n"
      ],
      "execution_count": null,
      "outputs": []
    },
    {
      "cell_type": "code",
      "metadata": {
        "id": "PwaG69gcHvC5"
      },
      "source": [
        "samochod = Samochod()\n",
        "\n",
        "print(samochod.Predkosc)\n",
        "print(samochod.marka)\n",
        "print(samochod.kolor)\n",
        "print(\"*\" * 40)\n",
        "print(Samochod.Predkosc)\n",
        "print(Samochod.marka)\n",
        "print(Samochod.kolor)"
      ],
      "execution_count": null,
      "outputs": []
    },
    {
      "cell_type": "code",
      "metadata": {
        "id": "SWqB_yPuHvz9"
      },
      "source": [
        "Samochod.Predkosc = 180\n",
        "honda = Samochod()\n",
        "print(f\"Honda: {honda.Predkosc}\")\n",
        "\n",
        "Samochod.Predkosc = 80\n",
        "star = Samochod()\n",
        "print(f\"Star: {star.Predkosc}\")\n",
        "\n",
        "print(\"*\" * 40)\n",
        "honda.Predkosc = 200\n",
        "Samochod.Predkosc = 400\n",
        "#honda.Predkosc = 200\n",
        "\n",
        "print(f\"Honda: {honda.Predkosc}\")\n",
        "print(f\"Star: {star.Predkosc}\")\n"
      ],
      "execution_count": null,
      "outputs": []
    },
    {
      "cell_type": "code",
      "metadata": {
        "id": "1aYtyFUsJM0e"
      },
      "source": [
        "honda = Samochod()\n",
        "honda.Predkosc = 180;\n",
        "print(f\"Honda: {honda.Predkosc}\")\n",
        "\n",
        "star = Samochod()\n",
        "star.Predkosc = 80\n",
        "print(f\"Star: {star.Predkosc}\")\n",
        "\n",
        "print(\"*\" * 40)\n",
        "\n",
        "print(f\"Honda: {honda.Predkosc}\")\n",
        "print(f\"Star: {star.Predkosc}\")\n",
        "\n",
        "Samochod.Predkosc = 10;\n",
        "skoda = Samochod()\n",
        "\n",
        "print(\"*\" * 40)\n",
        "\n",
        "print(f\"Honda: {honda.Predkosc}\")\n",
        "print(f\"Star: {star.Predkosc}\")\n",
        "print(f\"Star: {skoda.Predkosc}\")"
      ],
      "execution_count": null,
      "outputs": []
    },
    {
      "cell_type": "code",
      "metadata": {
        "id": "icAG4hw5Kgha"
      },
      "source": [
        "class Samochod:\n",
        "  \"Klasa definiujaca samochod\"\n",
        "  Predkosc = 120\n",
        "  def __init__(self):\n",
        "    self.marka = \"Honda\"\n",
        "  def DrukujPredkosc(self):\n",
        "    print(f\"Samochód {self.marka} jeździ z prędkością {self.Predkosc} km/h\")\n",
        "\n",
        "honda = Samochod()\n",
        "\n",
        "print(honda.Predkosc)\n",
        "print(honda.marka)\n",
        "honda.DrukujPredkosc()\n",
        "\n",
        "Samochod.Predkosc = 400\n",
        "honda.DrukujPredkosc()\n",
        "honda.Predkosc = 180\n",
        "\n",
        "#Samochod.DrukujPredkosc()"
      ],
      "execution_count": null,
      "outputs": []
    },
    {
      "cell_type": "code",
      "metadata": {
        "id": "dwCFUBzpNOGb"
      },
      "source": [
        "class Samochod:\n",
        "  \"Klasa definiujaca samochod\"\n",
        "  Predkosc = 120\n",
        "  def __init__(self):\n",
        "    self.marka = \"Honda\"\n",
        "  def DrukujPredkosc(self):\n",
        "    print(f\"Samochód {self.marka} jeździ z prędkością {self.Predkosc} km/h\")\n",
        "  def ZmienPredkosc(self, nowaPredkosc):\n",
        "    self.Predkosc = nowaPredkosc\n",
        "  def NowaMetoda():\n",
        "    print(\"Nic nie robię\")\n",
        "\n",
        "honda = Samochod()\n",
        "honda.DrukujPredkosc()\n",
        "honda.ZmienPredkosc(400)\n",
        "honda.DrukujPredkosc()\n",
        "\n",
        "star = Samochod()\n",
        "star.DrukujPredkosc()"
      ],
      "execution_count": null,
      "outputs": []
    },
    {
      "cell_type": "code",
      "metadata": {
        "id": "gMD7BaXyPRi5"
      },
      "source": [
        "class Samochod:\n",
        "  \"Klasa definiujaca samochod\"\n",
        "  Predkosc = 120\n",
        "  def __init__(self):\n",
        "    self.marka = \"Honda\"\n",
        "  def DrukujPredkosc(self):\n",
        "    print(f\"Samochód {self.marka} jeździ z prędkością {self.Predkosc} km/h\")\n",
        "  def __del__(self):\n",
        "    print(\"Złomuje samochod\")    \n"
      ],
      "execution_count": null,
      "outputs": []
    },
    {
      "cell_type": "code",
      "metadata": {
        "id": "DKQiciN0PfED"
      },
      "source": [
        "honda = Samochod()\n",
        "honda.DrukujPredkosc()\n",
        "del honda\n",
        "\n",
        "dir()"
      ],
      "execution_count": null,
      "outputs": []
    },
    {
      "cell_type": "code",
      "metadata": {
        "id": "2AxjQFdsQLIX"
      },
      "source": [
        "class Samochod:\n",
        "  def __init__(self):\n",
        "    self.kluczyki = \"Kluczyki do auta\"        \n",
        "    print(\"Produkuje samochód\")\n",
        "  def __enter__(self):\n",
        "    print(\"Rejestruje samochód\")\n",
        "    return self.kluczyki\n",
        "  def __exit__(self, type, value, tb):\n",
        "    print(\"Wyrejestrowywuje samochód\")    \n",
        "  def __del__(self):\n",
        "    print(\"Złomuje samochod\") \n",
        "\n"
      ],
      "execution_count": null,
      "outputs": []
    },
    {
      "cell_type": "code",
      "metadata": {
        "id": "m4vo3x2RPkZ6"
      },
      "source": [
        "with Samochod() as samochod:\n",
        "  print(samochod)\n",
        "\n",
        "print(\"Nie ma hondy\")"
      ],
      "execution_count": null,
      "outputs": []
    },
    {
      "cell_type": "code",
      "metadata": {
        "id": "wvfGr55tdJNt"
      },
      "source": [
        "class Samochod:\n",
        "  def __init__(self, marka):\n",
        "    self.marka = marka\n",
        "  def CoToZaAuto(self):\n",
        "    print(f\"to jest samochód marki {self.marka}\")\n",
        "\n",
        "class Honda(Samochod):\n",
        "  def __init__(self):\n",
        "    Samochod.__init__(self, \"Honda\")\n",
        "\n",
        "class Skoda(Samochod):\n",
        "  def __init__(self):\n",
        "    Samochod.__init__(self, \"Skoda\")\n",
        "\n",
        "civic = Honda()\n",
        "civic.CoToZaAuto()\n",
        "\n",
        "fabia = Skoda()\n",
        "fabia.CoToZaAuto()\n",
        "\n",
        "#samochod = Samochod(\"brak marki\")\n",
        "#samochod.CoToZaAuto()"
      ],
      "execution_count": null,
      "outputs": []
    },
    {
      "cell_type": "code",
      "metadata": {
        "id": "WU7PjqKmiWuq"
      },
      "source": [
        "class Samochod:\n",
        "  def naprzod(self):\n",
        "    print(\"Samochod jedzie do przodu\")\n",
        "\n",
        "class Okret:\n",
        "  def naprzod(self):\n",
        "    print(\"Okręt płynie do przodu\")\n",
        "\n",
        "class Amfibia(Samochod, Okret):   # dziedziczenie od lewej strony\n",
        "  pass\n",
        "\n",
        "amfibia = Amfibia()\n",
        "amfibia.naprzod()"
      ],
      "execution_count": null,
      "outputs": []
    },
    {
      "cell_type": "code",
      "metadata": {
        "id": "sAo6i6EqjKAK"
      },
      "source": [
        "class Samochod:\n",
        "  def naprzod(self):\n",
        "    print(\"Samochod jedzie do przodu\")\n",
        "\n",
        "class Okret:\n",
        "  def naprzod(self):\n",
        "    print(\"Okręt płynie do przodu\")\n",
        "\n",
        "class Amfibia(Samochod, Okret):\n",
        "  def naprzod(self):\n",
        "    Samochod.naprzod(self)\n",
        "    Okret.naprzod(self)\n",
        "    print(\"Amfibia jedzie czy płynie byle by do przodu\")\n",
        "\n",
        "amfibia = Amfibia()\n",
        "amfibia.naprzod()"
      ],
      "execution_count": null,
      "outputs": []
    },
    {
      "cell_type": "code",
      "metadata": {
        "id": "iXoEnnl7lBFb"
      },
      "source": [
        "class Pojazd:\n",
        "  def naprzod(self):\n",
        "    pass\n",
        "  def jedziemy(self):\n",
        "    self.naprzod()\n",
        "\n",
        "class Samochod(Pojazd):\n",
        "  def naprzod(self):\n",
        "    print(\"Samochod jedzie do przodu\")\n",
        "\n",
        "class Okret(Pojazd):\n",
        "  def naprzod(self):\n",
        "    print(\"Okręt płynie do przodu\")\n",
        "\n",
        "pojazd = Okret()\n",
        "pojazd.jedziemy()"
      ],
      "execution_count": null,
      "outputs": []
    },
    {
      "cell_type": "code",
      "metadata": {
        "id": "DZppc1ydpa7N"
      },
      "source": [
        "class Pojazd:\n",
        "  def naprzod(self):\n",
        "    pass\n",
        "\n",
        "class Samochod(Pojazd):\n",
        "  def naprzod(self):\n",
        "    pass\n",
        "\n",
        "class Okret(Pojazd):\n",
        "  def naprzod(self):\n",
        "    pass\n",
        "\n",
        "class Amfibia(Samochod, Okret):\n",
        "  def naprzod(self):\n",
        "    pass\n",
        "\n",
        "pojazd = Pojazd()\n",
        "okret = Okret()\n",
        "samochod = Samochod()\n",
        "amfibia = Amfibia()\n",
        "\n",
        "print(f\"Czy pojazd jest Pojazdem? {'tak' if isinstance(pojazd, Pojazd) else 'nie'}\")\n",
        "print(f\"Czy pojazd jest Samochodem? {'tak' if isinstance(pojazd, Samochod) else 'nie'}\")\n",
        "print(f\"Czy pojazd jest Okrętem? {'tak' if isinstance(pojazd, Okret) else 'nie'}\")\n",
        "print(f\"Czy pojazd jest Amfibią? {'tak' if isinstance(pojazd, Amfibia) else 'nie'}\")\n",
        "print(\"*\"*40)\n",
        "print(f\"Czy okret jest Pojazdem? {'tak' if isinstance(okret, Pojazd) else 'nie'}\")\n",
        "print(f\"Czy okret jest Samochodem? {'tak' if isinstance(okret, Samochod) else 'nie'}\")\n",
        "print(f\"Czy okret jest Okrętem? {'tak' if isinstance(okret, Okret) else 'nie'}\")\n",
        "print(f\"Czy okret jest Amfibią? {'tak' if isinstance(okret, Amfibia) else 'nie'}\")\n",
        "print(\"*\"*40)\n",
        "print(f\"Czy samochod jest Pojazdem? {'tak' if isinstance(samochod, Pojazd) else 'nie'}\")\n",
        "print(f\"Czy samochod jest Samochodem? {'tak' if isinstance(samochod, Samochod) else 'nie'}\")\n",
        "print(f\"Czy samochod jest Okrętem? {'tak' if isinstance(samochod, Okret) else 'nie'}\")\n",
        "print(f\"Czy samochod jest Amfibią? {'tak' if isinstance(samochod, Amfibia) else 'nie'}\")\n",
        "print(\"*\"*40)\n",
        "print(f\"Czy amfibia jest Pojazdem? {'tak' if isinstance(amfibia, Pojazd) else 'nie'}\")\n",
        "print(f\"Czy amfibia jest Samochodem? {'tak' if isinstance(amfibia, Samochod) else 'nie'}\")\n",
        "print(f\"Czy amfibia jest Okrętem? {'tak' if isinstance(amfibia, Okret) else 'nie'}\")\n",
        "print(f\"Czy amfibia jest Amfibią? {'tak' if isinstance(amfibia, Amfibia) else 'nie'}\")"
      ],
      "execution_count": null,
      "outputs": []
    },
    {
      "cell_type": "code",
      "metadata": {
        "id": "ovtLYkm6FOkh"
      },
      "source": [
        "class Kwadrat:\n",
        "  def __init__(self):\n",
        "    self.wysokosc = 2\n",
        "    self.szerokosc = 2\n",
        "  def zmienBok(nowaDlugoscBoku):\n",
        "    self.wysokosc = nowaDlugoscBoku\n",
        "    self.szerokosc = nowaDlugoscBoku\n",
        "\n",
        "kwadrat = Kwadrat()\n",
        "kwadrat.wysokosc = 10\n",
        "\n",
        "print(f'Szerokość {kwadrat.szerokosc}, wysokość {kwadrat.wysokosc}')"
      ],
      "execution_count": null,
      "outputs": []
    },
    {
      "cell_type": "code",
      "metadata": {
        "id": "aj0ZISZH2Rkn"
      },
      "source": [
        "class Kwadrat:\n",
        "  def __init__(self):\n",
        "    self._wysokosc = 2\n",
        "    self._szerokosc = 2\n",
        "  def zmienBok(nowaDlugoscBoku):\n",
        "    self._wysokosc = nowaDlugoscBoku\n",
        "    self._szerokosc = nowaDlugoscBoku\n",
        "\n",
        "kwadrat = Kwadrat()\n",
        "kwadrat._wysokosc = 10\n",
        "\n",
        "print(f'Szerokość {kwadrat._szerokosc}, wysokość {kwadrat._wysokosc}')"
      ],
      "execution_count": null,
      "outputs": []
    },
    {
      "cell_type": "code",
      "metadata": {
        "id": "HicVzvU92s9O"
      },
      "source": [
        "class Kwadrat:\n",
        "  def __init__(self):\n",
        "    self.__wysokosc = 2\n",
        "    self.__szerokosc = 2\n",
        "  def zmienBok(nowaDlugoscBoku):\n",
        "    self.__wysokosc = nowaDlugoscBoku\n",
        "    self.__szerokosc = nowaDlugoscBoku\n",
        "\n",
        "kwadrat = Kwadrat()\n",
        "kwadrat.__wysokosc = 10\n",
        "\n",
        "#print(f'Szerokość {kwadrat.__szerokosc}, wysokość {kwadrat.__wysokosc}')\n",
        "print(f'Szerokość {kwadrat._Kwadrat__szerokosc}, wysokość {kwadrat._Kwadrat__wysokosc}')\n",
        "\n",
        "dir(kwadrat)"
      ],
      "execution_count": null,
      "outputs": []
    },
    {
      "cell_type": "code",
      "metadata": {
        "id": "QJJmhNfV7fAj"
      },
      "source": [
        "class Kwadrat:\n",
        "  def __init__(self):\n",
        "    self.__wysokosc = 2\n",
        "    self.__szerokosc = 2\n",
        "  def zmienBok(nowaDlugoscBoku):\n",
        "    self.__wysokosc = nowaDlugoscBoku\n",
        "    self.__szerokosc = nowaDlugoscBoku\n",
        "  @property    \n",
        "  def wysokosc(self):\n",
        "    return self.__wysokosc;\n",
        "  @wysokosc.setter\n",
        "  def wysokosc(self, w):\n",
        "    if w >= 0:\n",
        "      self.__wysokosc = w\n",
        "    else:\n",
        "      raise Exception(\"wysokość musi być większa bądź równa 0\")\n",
        "\n",
        "kwadrat = Kwadrat()\n",
        "kwadrat.wysokosc = -4"
      ],
      "execution_count": null,
      "outputs": []
    },
    {
      "cell_type": "code",
      "metadata": {
        "id": "ZazJLRq64n4J"
      },
      "source": [
        "class Figura(ABC):\n",
        "  @abstractmethod\n",
        "  def PolePowierzchni(self):\n",
        "    pass\n",
        "\n",
        "class Kwadrat(Figura):\n",
        "  def __init__(self):\n",
        "    self.__wysokosc = 2\n",
        "    self.__szerokosc = 2\n",
        "  def zmienBok(nowaDlugoscBoku):\n",
        "    self.__wysokosc = nowaDlugoscBoku\n",
        "    self.__szerokosc = nowaDlugoscBoku\n",
        "  def PolePowierzchni(self):\n",
        "    return self.__wysokosc * self.__szerokosc\n",
        "\n",
        "#figura = Figura()\n",
        "kwadrat = Kwadrat()"
      ],
      "execution_count": null,
      "outputs": []
    },
    {
      "cell_type": "code",
      "metadata": {
        "id": "UvKZPHlh7AJ0"
      },
      "source": [
        "class Samochod(ABC):    \n",
        "  @abstractmethod\n",
        "  def __init__(self, marka):\n",
        "    self.kluczyki = \"Kluczyki do auta\"\n",
        "    print(\"Produkuje samochód\")\n",
        "    self._marka = marka\n",
        "  def __enter__(self):\n",
        "    print(f\"Rejestruje samochód marki {self._marka}\")\n",
        "    return self\n",
        "  def __exit__(self, type, value, tb):\n",
        "    print(\"Wyrejestrowywuje samochód\")    \n",
        "  def __str__(self):\n",
        "    return f\"To jest samochód marki {self._marka}\"\n",
        "  def __del__(self):\n",
        "    print(\"Złomuje samochod\")  \n",
        "\n",
        "class Honda(Samochod):\n",
        "  def __init__(self):\n",
        "    Samochod.__init__(self, \"Honda\")\n",
        "\n",
        "with Honda() as samochod:    \n",
        "  print(samochod)\n",
        "\n",
        "print(\"I już nie ma hondy\")"
      ],
      "execution_count": null,
      "outputs": []
    },
    {
      "cell_type": "code",
      "metadata": {
        "id": "8YwowyAeGIcE"
      },
      "source": [
        "def tictoc(func):\n",
        "  def tic():\n",
        "    import time\n",
        "    global startTime_for_tictoc\n",
        "    startTime_for_tictoc = time.time()\n",
        "  def toc():\n",
        "    import time\n",
        "    if 'startTime_for_tictoc' in globals():\n",
        "        print(\"Elapsed time is \" + str(time.time() - startTime_for_tictoc) + \" seconds.\")\n",
        "    else:\n",
        "        print(\"Toc: start time not set\")\n",
        "  def wrapper():\n",
        "    tic()\n",
        "    func()\n",
        "    toc()\n",
        "  return wrapper\n",
        "\n",
        "@tictoc\n",
        "def test():\n",
        "  print(\"test działania dekoratora mierzącego czas wykonania\")    \n",
        "\n",
        "test()\n"
      ],
      "execution_count": null,
      "outputs": []
    }
  ]
}