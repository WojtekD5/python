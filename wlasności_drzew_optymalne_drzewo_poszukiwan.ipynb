{
  "nbformat": 4,
  "nbformat_minor": 0,
  "metadata": {
    "colab": {
      "name": "wlasności_drzew_optymalne_drzewo_poszukiwan.ipynb",
      "provenance": [],
      "collapsed_sections": [],
      "authorship_tag": "ABX9TyNvv2+FJ0DmHDAQ9V8nnkYi",
      "include_colab_link": true
    },
    "kernelspec": {
      "name": "python3",
      "display_name": "Python 3"
    },
    "language_info": {
      "name": "python"
    }
  },
  "cells": [
    {
      "cell_type": "markdown",
      "metadata": {
        "id": "view-in-github",
        "colab_type": "text"
      },
      "source": [
        "<a href=\"https://colab.research.google.com/github/WojtekD5/python/blob/main/wlasno%C5%9Bci_drzew_optymalne_drzewo_poszukiwan.ipynb\" target=\"_parent\"><img src=\"https://colab.research.google.com/assets/colab-badge.svg\" alt=\"Open In Colab\"/></a>"
      ]
    },
    {
      "cell_type": "markdown",
      "metadata": {
        "id": "uaoVOxXI-Umq"
      },
      "source": [
        "# Dynamiczne struktury danych i ich przeszukiwanie\n",
        "\n",
        "Wyobraźmy sobie zadanie przeszukania pewnego zbioru, który został utworzony dynamicznie. Jego dynamiczność oznacza, że poszczególne elementy w pamięci muszą wskazywać kolejne elementy tej samej struktury. Dobrym przykładem jest tutaj lista\n",
        "\n",
        "\n"
      ]
    },
    {
      "cell_type": "code",
      "execution_count": null,
      "metadata": {
        "id": "c0nEOegP-Umu"
      },
      "outputs": [],
      "source": [
        "class ListElement(object):\n",
        "    def __init__(self, data, left = None, right = None):\n",
        "        self.data = data\n",
        "        self.left = left\n",
        "        self.right = right\n",
        "\n",
        "class List(object):\n",
        "    \n",
        "    def __init__(self):\n",
        "        self.begin = None\n",
        "    \n",
        "    def append(self, item):\n",
        "        current = self.begin\n",
        "        if current is None:\n",
        "            self.begin = ListElement(item)\n",
        "        else:\n",
        "            while current.right is not None:\n",
        "                current = current.right;\n",
        "            created = ListElement(item, left = current)\n",
        "            current.right = created\n",
        "    \n",
        "    def print(self):\n",
        "        current = self.begin\n",
        "        while current is not None:\n",
        "            print(f'->{current.data}', end='')\n",
        "            current = current.right\n",
        "            \n",
        "            "
      ]
    },
    {
      "cell_type": "code",
      "execution_count": null,
      "metadata": {
        "id": "v4rwMcrO-Umv",
        "outputId": "f78bb805-19c1-4c01-e846-32c4f352f475",
        "colab": {
          "base_uri": "https://localhost:8080/"
        }
      },
      "outputs": [
        {
          "output_type": "stream",
          "name": "stdout",
          "text": [
            "->4->2->6->1->3->5->7"
          ]
        }
      ],
      "source": [
        "lista = List()\n",
        "lista.append(4)\n",
        "lista.append(2)\n",
        "lista.append(6)\n",
        "lista.append(1)\n",
        "lista.append(3)\n",
        "lista.append(5)\n",
        "lista.append(7)\n",
        "lista.print()"
      ]
    },
    {
      "cell_type": "markdown",
      "metadata": {
        "id": "5guUH0Dg-Umx"
      },
      "source": [
        "Zauważmy, że w tej strukturze - choć dodawania lub usuwanie elementów działa bardzo sprawnie - wyszukiwanie natomiast już takie szybkie nie jest. Na taką strukturę dynamiczną można patrzeć jak na graf umieszczony w pamięci komputera. Każda struktura dynamiczna ma swój ustalony początek i jej pesymistyczny czas przeszukania wynosi proporcjonalnie tyle co najdłuższa ścieżka w tym grafie.\n",
        "\n",
        "W przypadku listy składującej $n$ elementów najdłuższa ścieżka ma długość $n-1$. Wyszukiwanie jest więc pesymistycznie liniowe $O(n)$. Rozważmy zatem możliwość użycia grafu do stworzenia struktury o krótszych najdłuższych ścieżkach. Pytanie jednak jaki nadać kształt tej strukturze w pamięci. Zastanówmy się jaka własność grafu powodowałaby marnowanie czasu naszego przeszukiwania najbardziej?\n",
        "\n",
        "Oczywiście cykle !! Każdy cykl to potencjalna szansa na powtórzenie tych samych sprawdzeń !!\n",
        "\n",
        "Jakie grafy nie mają cykli - oczywiście drzewa!\n",
        "\n",
        "Rozważmy analogiczną do naszej $n$ elementowej listy, strukturę opartą o drzewo binarne (wspominane wcześniej drzewo BST). Okazuje się, że najdłuższa ścieżka w takim grafie będzie dobrze przybliżana przez $\\ln(n)$"
      ]
    },
    {
      "cell_type": "markdown",
      "metadata": {
        "id": "HlE6iPYq-Umx"
      },
      "source": [
        "# Własności drzew\n",
        "\n",
        "Dla drzew można zdefiniować kilka istotnych własności. W tej lekcji opiszemy 3 z nich\n",
        "\n",
        "## Pełne drzewo\n",
        "\n",
        "Drzewo binarne nazywamy pełnym jeśli spełniony jest następujący warunek, że dla każdego węzła drzewa zachodzi jeden z warunków\n",
        "\n",
        "1. Węzeł nie ma żadnych potomków,\n",
        "1. Węzeł ma dwóch potomków.\n",
        "\n",
        "Oznacza to, że w drzwie nie ma węzłów z jednym potomkiem. \n",
        "\n",
        "## Kompletne drzewo\n",
        "\n",
        "Drzewem kompletnyme (zupełnym) nazywamy takie drzewo binarne w którym spełniony jest następujący warunek:\n",
        "\n",
        "*Jeśli mamy dostępny węzeł z tego drzewa, to na tej samej głębokości drzewa muszą istnieć węzły położone na lewo od niego.*\n",
        "\n",
        "Inaczej można by również warunek zadać, że w drzewie tym numerowanie (przechodzenie) poziomami przypisuje te same numery (przechodzi w tym samym momencie) do tych samych węzłów co dla drzewa doskonałego. Szybko śpieszymy z wyjaśnieniem czym jest drzewo doskonałe\n",
        "\n",
        "## Drzewo doskonałe\n",
        "\n",
        "Drzewem binarnym doskonałym nazwiemy nazwiemy binarne drzewo pełne gdzie wszystkie liście znajdują się w tej samej odległości od korzenia. \n",
        "\n",
        "Oznacza to, że jedynie najniższy poziom drzewa może nie posiada potomstwa. Jeśli $n$ oznacza głebokość drzewa (maksymalną odległość od korzenia) to węzły na głębokości $1,\\ldots, n-1$ mają po 2 potomków, a te na głębokości $n$ nie mają żadnego.\n",
        "\n",
        "## Przykłady drzew\n",
        "\n",
        "Jak wyglądają omawiane drzewa przedstawia poniższy schemat\n",
        "\n",
        "![](https://github.com/rroszczyk/Python/raw/master/drzewa/cztery_drzewa.png)\n"
      ]
    },
    {
      "cell_type": "markdown",
      "metadata": {
        "id": "tmSdtAXb-Umy"
      },
      "source": [
        "# Przykładowe implementacje drzew i konwersja typów drzew\n",
        "Przyjrzyjmy się następującej implementacji drzewa binarnego oraz drzewa z dowolną liczbą liści"
      ]
    },
    {
      "cell_type": "code",
      "execution_count": null,
      "metadata": {
        "id": "hui9rmU--Umy"
      },
      "outputs": [],
      "source": [
        "class BinaryTreeElement(object):\n",
        "\n",
        "    def __init__(self, item, left = None, right = None):\n",
        "        self.item = item\n",
        "        self.left = left\n",
        "        self.right = right\n",
        "        \n",
        "    def depth(self):\n",
        "        depths = [1]\n",
        "        if self.left is not None:\n",
        "            depths.append(self.left.depth()+1)\n",
        "        if self.right is not None:\n",
        "            depths.append(self.right.depth()+1)\n",
        "        #print(f'DEBUG dep of element {self.item} = {depths}')\n",
        "        return max(depths)\n",
        "    \n",
        "        \n",
        "class BinaryTree(object):\n",
        "    \n",
        "\n",
        "    def __init__(self, root = None):\n",
        "        self.root : BinaryTreeElement = root\n",
        "            \n",
        "    def depth(self):\n",
        "        if self.root is None:\n",
        "            return 0\n",
        "        else:\n",
        "            return self.root.depth()\n",
        "    \n",
        "    def plot(self):\n",
        "        \n",
        "        def plot_k_spaces(k):\n",
        "            for _ in range(k):\n",
        "                    print(' ', end='')\n",
        "        \n",
        "        dep = self.depth()\n",
        "        level = [self.root]\n",
        "        next_level = []\n",
        "        while len(level) > 0:\n",
        "            #print(f'DEBUG len(levels) {len(level)} , dep {dep}')\n",
        "            for element in level:\n",
        "                if element is None:\n",
        "                    plot_k_spaces(2**dep*2)\n",
        "                    next_level.append(None)\n",
        "                    next_level.append(None)\n",
        "                else:        \n",
        "                    plot_k_spaces(2**dep)\n",
        "                    print(element.item,end='')\n",
        "                    plot_k_spaces(2**dep-1)\n",
        "                    next_level.append(element.left)\n",
        "                    next_level.append(element.right)\n",
        "            is_done = all([ element is None for element in next_level])\n",
        "            level = next_level\n",
        "            next_level = []\n",
        "            dep -= 1\n",
        "            print('')\n",
        "            if is_done:\n",
        "                break;\n",
        "\n",
        "                    \n",
        "        \n",
        "        "
      ]
    },
    {
      "cell_type": "code",
      "execution_count": null,
      "metadata": {
        "id": "ccdwOTJQ-Umz",
        "outputId": "26511f7a-3984-4c92-aae9-14ddd9e2bcc5",
        "colab": {
          "base_uri": "https://localhost:8080/"
        }
      },
      "outputs": [
        {
          "output_type": "stream",
          "name": "stdout",
          "text": [
            "        5       \n",
            "    2       8   \n",
            "  1   3   6   9 \n"
          ]
        }
      ],
      "source": [
        "row31 = BinaryTreeElement(1)\n",
        "row32 = BinaryTreeElement(3)\n",
        "row33 = BinaryTreeElement(6)\n",
        "row34 = BinaryTreeElement(9)\n",
        "row21 = BinaryTreeElement(2, left = row31, right = row32)\n",
        "row22 = BinaryTreeElement(8, left = row33, right = row34)\n",
        "row1 = BinaryTreeElement(5, left = row21, right = row22)\n",
        "tree = BinaryTree(row1)\n",
        "tree.plot()"
      ]
    },
    {
      "cell_type": "markdown",
      "metadata": {
        "id": "LS5ljO-7-Um0"
      },
      "source": [
        "\n",
        "Z drugiej strony zupełnie analogicznie możemy utworzyć drzewo gdzie węzły posiadają dowolną liczbą liści"
      ]
    },
    {
      "cell_type": "code",
      "execution_count": null,
      "metadata": {
        "id": "SCYWzzwQ-Um0"
      },
      "outputs": [],
      "source": [
        "class TreeElement(object):\n",
        "\n",
        "    def __init__(self, item, leafs=[]):\n",
        "        self.item = item\n",
        "        self.leafs = leafs\n",
        "\n",
        "    def depth(self):\n",
        "        depths = [1]\n",
        "        for leaf in self.leafs:\n",
        "            depths.append(leaf.depth() + 1)\n",
        "        return max(depths)\n",
        "\n",
        "    def plot(self, new_line, indent=0):\n",
        "        def plot_k_spaces(k):\n",
        "            for _ in range(k):\n",
        "                    print(' ', end='')\n",
        "        if new_line:\n",
        "            print('')\n",
        "            plot_k_spaces(indent)\n",
        "        print(self.item, '-', sep='', end='')\n",
        "        next_line = False\n",
        "        for leaf in self.leafs:\n",
        "            leaf.plot(new_line = next_line, indent=indent + len(str(self.item)) + 1)\n",
        "            next_line = True\n",
        "\n",
        "\n",
        "\n",
        "class Tree(object):\n",
        "\n",
        "    def __init__(self, root=None):\n",
        "        self.root: TreeElement = root\n",
        "\n",
        "    def depth(self):\n",
        "        if self.root is None:\n",
        "            return 0\n",
        "        else:\n",
        "            return self.root.depth()\n",
        "\n",
        "    def plot(self):\n",
        "        if self.root is not None:\n",
        "            self.root.plot(new_line=False)\n",
        "\n",
        "                    \n",
        "        \n",
        "        "
      ]
    },
    {
      "cell_type": "code",
      "execution_count": null,
      "metadata": {
        "id": "_u3MA1Mn-Um1",
        "outputId": "7bccb480-bce1-42c1-f924-a9e98ea9f585",
        "colab": {
          "base_uri": "https://localhost:8080/"
        }
      },
      "outputs": [
        {
          "output_type": "stream",
          "name": "stdout",
          "text": [
            "5-2-1-\n",
            "    3-\n",
            "    0-\n",
            "  8-6-\n",
            "    9-"
          ]
        }
      ],
      "source": [
        "row31 = TreeElement(1)\n",
        "row32 = TreeElement(3)\n",
        "row32_a = TreeElement(0)\n",
        "row33 = TreeElement(6)\n",
        "row34 = TreeElement(9)\n",
        "row21 = TreeElement(2, leafs = [row31, row32, row32_a])\n",
        "row22 = TreeElement(8, leafs = [row33, row34])\n",
        "row1 = TreeElement(5, leafs = [row21,row22])\n",
        "tree = Tree(row1)\n",
        "tree.plot()"
      ]
    },
    {
      "cell_type": "markdown",
      "metadata": {
        "id": "iIndEYOX-Um1"
      },
      "source": [
        "Drzewa niebinarne są rzadko spotykane w implementacjach informatycznych. W drzewie o $n$ liściach trzeba bowiem wykonać pesymistycznie $n-1$ porównań zanim zdecyduje się do którego liścia przejdzie się w dalszej części. Tymczasem drzewo binarne wymaga dokładnie $1$ porównania. \n",
        "\n",
        "Znany jest też algorytm dokonujący konwersji pomiędzy drzewem o dowolnej liczności liści a drzewem binarnym.\n",
        "\n",
        "W drzewie konwersji obowiązuje zasada, że\n",
        "\n",
        "* Jeśli element jest lewym dowiązaniem - to jest potomkiem danego węzła;\n",
        "* Natomiast jeśli jest prawy dowiązeniem - to jest rodzeństwem danego węzła;"
      ]
    },
    {
      "cell_type": "code",
      "execution_count": null,
      "metadata": {
        "id": "mBerna0z-Um2"
      },
      "outputs": [],
      "source": [
        "def convertToBinaryTree(tree):\n",
        "\n",
        "    def convertNode(node, siblings=[]):\n",
        "        left = None\n",
        "        if node.leafs: # są potomkowie trzeba generować nowych lewych\n",
        "            next_siblings = node.leafs[:]\n",
        "            item = next_siblings.pop(0)\n",
        "            left = convertNode(item, siblings=next_siblings)\n",
        "        right = None\n",
        "        if len(siblings) > 0:\n",
        "            item = siblings.pop(0)\n",
        "            right = convertNode(item, siblings=siblings)\n",
        "        return BinaryTreeElement(item=node.item, left = left, right = right)\n",
        "\n",
        "    if tree.root is None:\n",
        "        return BinaryTree()\n",
        "    return BinaryTree(root=convertNode(tree.root))\n"
      ]
    },
    {
      "cell_type": "code",
      "execution_count": null,
      "metadata": {
        "id": "q8SjhxgG-Um2",
        "outputId": "e0d9421b-6d3f-40fb-ed7d-1be675076596",
        "colab": {
          "base_uri": "https://localhost:8080/"
        }
      },
      "outputs": [
        {
          "output_type": "stream",
          "name": "stdout",
          "text": [
            "                                5                               \n",
            "                2                                               \n",
            "        1               8                                       \n",
            "            3       6                                           \n",
            "              0       9                                         \n"
          ]
        }
      ],
      "source": [
        "bt = convertToBinaryTree(tree)\n",
        "bt.plot()"
      ]
    },
    {
      "cell_type": "markdown",
      "metadata": {
        "id": "X1zebwE1-Um2"
      },
      "source": [
        "# Generowanie optymalnego drzewa wyszukań\n",
        "\n",
        "Widzimy, że drzewo wygenerowane w ostatnim przykładzie jest drzewem bardzo dalekim od pełnego. Zauważmy, że wyszukanie w takim drzewie binarnym konkretnej wartości będzie w tej sytuacji nie optymalne. W ostatniej części skupimny się na wygenerowaniu takiego drzewa dla konkretnego zbioru liczb. "
      ]
    },
    {
      "cell_type": "code",
      "execution_count": null,
      "metadata": {
        "id": "hv1CwuOu-Um3"
      },
      "outputs": [],
      "source": [
        "def max_2_power(value):\n",
        "    if value == 0:\n",
        "        return 0\n",
        "    result = 1\n",
        "    while result * 2 < value:\n",
        "        result *= 2\n",
        "    return result\n",
        "\n",
        "\n",
        "def optimal_binary_tree_sr(liczby):  # s - sorted , r-recurent\n",
        "    length = len(liczby)\n",
        "    if length == 0:\n",
        "        return None\n",
        "    split = max_2_power(length)-1\n",
        "    left = optimal_binary_tree_sr(liczby[:split])\n",
        "    item = liczby[split]\n",
        "    right = optimal_binary_tree_sr(liczby[split+1:])\n",
        "    return BinaryTreeElement(item=item, left=left, right=right)\n",
        "\n",
        "\n",
        "def optimal_binary_tree(liczby):\n",
        "    liczby = sorted(liczby)\n",
        "    length = len(liczby)\n",
        "    if length == 0:\n",
        "        root = None\n",
        "    else:\n",
        "        root = optimal_binary_tree_sr(liczby)\n",
        "    return BinaryTree(root=root)"
      ]
    },
    {
      "cell_type": "code",
      "execution_count": null,
      "metadata": {
        "id": "kg4AzN7y-Um3",
        "outputId": "69e01f1f-88f0-4065-af81-d40375ef8493",
        "colab": {
          "base_uri": "https://localhost:8080/"
        }
      },
      "outputs": [
        {
          "output_type": "stream",
          "name": "stdout",
          "text": [
            "                8               \n",
            "        4               12       \n",
            "    2       6       10       14   \n",
            "  1   3   5   7   9   11   13   15 \n"
          ]
        }
      ],
      "source": [
        "liczby = [1,2,3,4,5,6,7,8,9,10,11,12,13,14,15]\n",
        "\n",
        "obt = optimal_binary_tree(liczby)\n",
        "obt.plot()\n"
      ]
    },
    {
      "cell_type": "code",
      "source": [
        "liczby = [1,3,5,7,9,11,13,15,2,4,6,8,10,12,14]\n",
        "\n",
        "obt = optimal_binary_tree(liczby)\n",
        "obt.plot()"
      ],
      "metadata": {
        "colab": {
          "base_uri": "https://localhost:8080/"
        },
        "id": "0VavNmc-Fsvd",
        "outputId": "6589396d-16a3-44e1-aa37-4872d3c8dfdf"
      },
      "execution_count": null,
      "outputs": [
        {
          "output_type": "stream",
          "name": "stdout",
          "text": [
            "                8               \n",
            "        4               12       \n",
            "    2       6       10       14   \n",
            "  1   3   5   7   9   11   13   15 \n"
          ]
        }
      ]
    },
    {
      "cell_type": "markdown",
      "metadata": {
        "id": "cmrLX_RN-Um3"
      },
      "source": [
        "W tak wygenerowanym drzewie poszukiwanie konkretnych wartości jest już optymalne pod wzlędem długości ścieżki poszukiwań. \n",
        "\n",
        "Zauważmy jednak pewne niedostateczności tego rozwiązania:\n",
        "\n",
        "* Cały proces zaczyna się od przesortowania całego zbioru $O(n \\ln n)$;\n",
        "* Postać tego drzewa będzie jednak optymalna tak długo jak nie będzie się zmieniać. Pod wpływem zmian kształtu zbioru, optymalność może zostać zaburzona.\n",
        "\n",
        "Pomocne w naprawieniu tej sytuacji będzie - omawiana za jakiś czas technika balansowania drzew - i ostateczna postać w postaci struktury danych nazywanej drzewem czarno-czerwonym."
      ]
    },
    {
      "cell_type": "code",
      "source": [
        "class BinaryTree:\n",
        "    def __init__(self, data):\n",
        "        self.left = None\n",
        "        self.right = None\n",
        "        self.data = data\n",
        "\n",
        "    def insert(self, data):\n",
        "        if self.data:\n",
        "            if data < self.data:\n",
        "                if self.left is None:\n",
        "                    self.left = BinaryTree(data)\n",
        "                else:\n",
        "                    self.left.insert(data)\n",
        "            elif data > self.data:\n",
        "                if self.right is None:\n",
        "                    self.right = BinaryTree(data)\n",
        "                else:\n",
        "                    self.right.insert(data)\n",
        "        else:\n",
        "            self.data = data\n",
        "\n",
        "    def findval(self, lkpval):\n",
        "        if lkpval < self.data:\n",
        "            if self.left is None:\n",
        "                return str(lkpval) + \" brak elementu\"\n",
        "            return self.left.findval(lkpval)\n",
        "        elif lkpval > self.data:\n",
        "            if self.right is None:\n",
        "                return str(lkpval) + \" brak elementu\"\n",
        "            return self.right.findval(lkpval)\n",
        "        else:\n",
        "            return str(self.data) + \" został znaleziony\"\n",
        "\n",
        "    def LongwisePrintTree(self, lvl):                 # przeglądanie wzdłóżne\n",
        "        print(f\"{lvl}: {self.data}\")                  \n",
        "        if self.left:\n",
        "            self.left.LongwisePrintTree(lvl + 1)\n",
        "        if self.right:\n",
        "            self.right.LongwisePrintTree(lvl + 1)\n",
        "\n",
        "    def TransverseAlongPrintTree(self, lvl):          # przeglądanie poprzeczne\n",
        "        if self.left:\n",
        "            self.left.TransverseAlongPrintTree(lvl + 1)\n",
        "        print(f\"{lvl}: {self.data}\")                  \n",
        "        if self.right:\n",
        "            self.right.TransverseAlongPrintTree(lvl + 1)\n",
        "\n",
        "    def ReversePrintTree(self, lvl):                  # przeglądanie wsteczne\n",
        "        if self.left:\n",
        "            self.left.ReversePrintTree(lvl + 1)\n",
        "        if self.right:\n",
        "            self.right.ReversePrintTree(lvl + 1)                        \n",
        "        print(f\"{lvl}: {self.data}\")                              \n",
        "\n",
        "root = BinaryTree(4)\n",
        "root.insert(2)\n",
        "root.insert(6)\n",
        "root.insert(1)\n",
        "root.insert(3)\n",
        "root.insert(5)\n",
        "root.insert(7)\n",
        "print(root.findval(7))\n",
        "print(root.findval(8))\n",
        "print(\"Przeglądanie wzdłóżne\")\n",
        "root.LongwisePrintTree(0)\n",
        "print(\"Przeglądanie poprzeczne\")\n",
        "root.TransverseAlongPrintTree(0)\n",
        "print(\"Przeglądanie wsteczne\")\n",
        "root.ReversePrintTree(0)"
      ],
      "metadata": {
        "colab": {
          "base_uri": "https://localhost:8080/"
        },
        "id": "vVY4soieCv6B",
        "outputId": "b618e8e7-0c28-4367-c43a-a9baf809a57a"
      },
      "execution_count": null,
      "outputs": [
        {
          "output_type": "stream",
          "name": "stdout",
          "text": [
            "7 został znaleziony\n",
            "8 brak elementu\n",
            "Przeglądanie wzdłóżne\n",
            "0: 4\n",
            "1: 2\n",
            "2: 1\n",
            "2: 3\n",
            "1: 6\n",
            "2: 5\n",
            "2: 7\n",
            "Przeglądanie poprzeczne\n",
            "2: 1\n",
            "1: 2\n",
            "2: 3\n",
            "0: 4\n",
            "2: 5\n",
            "1: 6\n",
            "2: 7\n",
            "Przeglądanie wsteczne\n",
            "2: 1\n",
            "2: 3\n",
            "1: 2\n",
            "2: 5\n",
            "2: 7\n",
            "1: 6\n",
            "0: 4\n"
          ]
        }
      ]
    },
    {
      "cell_type": "code",
      "source": [
        "class BSTNode:\n",
        "    def __init__(self, val=None):\n",
        "        self.left = None\n",
        "        self.right = None\n",
        "        self.val = val\n",
        "\n",
        "    def insert(self, val):\n",
        "        if not self.val:\n",
        "            self.val = val\n",
        "            return\n",
        "\n",
        "        if self.val == val:\n",
        "            return\n",
        "\n",
        "        if val < self.val:\n",
        "            if self.left:\n",
        "                self.left.insert(val)\n",
        "                return\n",
        "            self.left = BSTNode(val)\n",
        "            return\n",
        "\n",
        "        if self.right:\n",
        "            self.right.insert(val)\n",
        "            return\n",
        "        self.right = BSTNode(val)\n",
        "\n",
        "    def get_min(self):\n",
        "        current = self\n",
        "        while current.left is not None:\n",
        "            current = current.left\n",
        "        return current.val\n",
        "\n",
        "    def get_max(self):\n",
        "        current = self\n",
        "        while current.right is not None:\n",
        "            current = current.right\n",
        "        return current.val\n",
        "\n",
        "    def delete(self, val):\n",
        "        if self == None:\n",
        "            return self\n",
        "        if val < self.val:\n",
        "            if self.left:\n",
        "                self.left = self.left.delete(val)\n",
        "            return self\n",
        "        if val > self.val:\n",
        "            if self.right:\n",
        "                self.right = self.right.delete(val)\n",
        "            return self\n",
        "        if self.right == None:\n",
        "            return self.left\n",
        "        if self.left == None:\n",
        "            return self.right\n",
        "        min_larger_node = self.right\n",
        "        while min_larger_node.left:\n",
        "            min_larger_node = min_larger_node.left\n",
        "        self.val = min_larger_node.val\n",
        "        self.right = self.right.delete(min_larger_node.val)\n",
        "        return self\n",
        "\n",
        "    def exists(self, val):\n",
        "        if val == self.val:\n",
        "            return True\n",
        "\n",
        "        if val < self.val:\n",
        "            if self.left == None:\n",
        "                return False\n",
        "            return self.left.exists(val)\n",
        "\n",
        "        if self.right == None:\n",
        "            return False\n",
        "        return self.right.exists(val)\n",
        "\n",
        "    def preorder(self, vals):\n",
        "        if self.val is not None:\n",
        "            vals.append(self.val)\n",
        "        if self.left is not None:\n",
        "            self.left.preorder(vals)\n",
        "        if self.right is not None:\n",
        "            self.right.preorder(vals)\n",
        "        return vals\n",
        "\n",
        "    def inorder(self, vals):\n",
        "        if self.left is not None:\n",
        "            self.left.inorder(vals)\n",
        "        if self.val is not None:\n",
        "            vals.append(self.val)\n",
        "        if self.right is not None:\n",
        "            self.right.inorder(vals)\n",
        "        return vals\n",
        "\n",
        "    def postorder(self, vals):\n",
        "        if self.left is not None:\n",
        "            self.left.postorder(vals)\n",
        "        if self.right is not None:\n",
        "            self.right.postorder(vals)\n",
        "        if self.val is not None:\n",
        "            vals.append(self.val)\n",
        "        return vals"
      ],
      "metadata": {
        "id": "CmQcWAEpS86z"
      },
      "execution_count": null,
      "outputs": []
    },
    {
      "cell_type": "code",
      "source": [
        "nums = [12, 6, 18, 19, 21, 11, 3, 5, 4, 24, 18]\n",
        "bst = BSTNode()\n",
        "for num in nums:\n",
        "  bst.insert(num)\n",
        "print(\"preorder:\")\n",
        "print(bst.preorder([]))\n",
        "print(\"#\")\n",
        "\n",
        "print(\"postorder:\")\n",
        "print(bst.postorder([]))\n",
        "print(\"#\")\n",
        "\n",
        "print(\"inorder:\")\n",
        "print(bst.inorder([]))\n",
        "print(\"#\")\n",
        "\n",
        "nums = [2, 6, 20]\n",
        "print(\"deleting \" + str(nums))\n",
        "for num in nums:\n",
        "  bst.delete(num)\n",
        "print(\"#\")\n",
        "\n",
        "print(\"4 exists:\")\n",
        "print(bst.exists(4))\n",
        "print(\"2 exists:\")\n",
        "print(bst.exists(2))\n",
        "print(\"12 exists:\")\n",
        "print(bst.exists(12))\n",
        "print(\"18 exists:\")\n",
        "print(bst.exists(18))"
      ],
      "metadata": {
        "id": "CiPc1bgaTCjt",
        "outputId": "cf2a7b54-1517-4477-9325-f31e188213ac",
        "colab": {
          "base_uri": "https://localhost:8080/"
        }
      },
      "execution_count": null,
      "outputs": [
        {
          "output_type": "stream",
          "name": "stdout",
          "text": [
            "preorder:\n",
            "[12, 6, 3, 5, 4, 11, 18, 19, 21, 24]\n",
            "#\n",
            "postorder:\n",
            "[4, 5, 3, 11, 6, 24, 21, 19, 18, 12]\n",
            "#\n",
            "inorder:\n",
            "[3, 4, 5, 6, 11, 12, 18, 19, 21, 24]\n",
            "#\n",
            "deleting [2, 6, 20]\n",
            "#\n",
            "4 exists:\n",
            "True\n",
            "2 exists:\n",
            "False\n",
            "12 exists:\n",
            "True\n",
            "18 exists:\n",
            "True\n"
          ]
        }
      ]
    }
  ]
}