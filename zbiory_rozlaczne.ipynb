{
  "nbformat": 4,
  "nbformat_minor": 0,
  "metadata": {
    "colab": {
      "name": "Untitled7.ipynb",
      "provenance": [],
      "collapsed_sections": [],
      "include_colab_link": true
    },
    "kernelspec": {
      "name": "python3",
      "display_name": "Python 3"
    },
    "language_info": {
      "name": "python"
    }
  },
  "cells": [
    {
      "cell_type": "markdown",
      "metadata": {
        "id": "view-in-github",
        "colab_type": "text"
      },
      "source": [
        "<a href=\"https://colab.research.google.com/github/WojtekD5/python/blob/main/zbiory_rozlaczne.ipynb\" target=\"_parent\"><img src=\"https://colab.research.google.com/assets/colab-badge.svg\" alt=\"Open In Colab\"/></a>"
      ]
    },
    {
      "cell_type": "code",
      "metadata": {
        "id": "TktiWZAUnV1O"
      },
      "source": [
        "# prosta implementacja algorytmu find\n",
        "def find(parent, i):\n",
        "     \n",
        "    if (parent[i] == -1):\n",
        "        return i\n",
        "     \n",
        "    return find(parent, parent[i])\n",
        "\n",
        "# prosta implementacja algorytmu union\n",
        "def Union(parent, x, y):\n",
        " \n",
        "    xset = find(parent, x)\n",
        "    yset = find(parent, y)\n",
        "    parent[xset] = yset"
      ],
      "execution_count": null,
      "outputs": []
    },
    {
      "cell_type": "code",
      "metadata": {
        "colab": {
          "base_uri": "https://localhost:8080/"
        },
        "id": "m9W0OSXGnj-S",
        "outputId": "73dc5632-9595-4457-ef13-135a5c3c634f"
      },
      "source": [
        "a = [-1, -1, -1, -1, -1, -1]\n",
        "\n",
        "# tworzymy zbiór {1, 3, 0}\n",
        "Union(a, 0, 1)\n",
        "Union(a, 1, 3)\n",
        "\n",
        "# tworzymy zbiór {2, 5}\n",
        "Union(a, 5, 2)\n",
        "\n",
        "print(a)\n",
        "\n",
        "roots = [find(a, 0), find(a, 1), find(a, 2), find(a, 3), find(a, 4), find(a, 5)]\n",
        "print(roots);\n",
        "\n",
        "# sprawdzenie rootów dla elementów zbioru {1, 3, 0}\n",
        "print(find(a, 1))\n",
        "print(find(a, 3))\n",
        "print(find(a, 0))\n",
        "\n",
        "# sprawdzenie rootów dla elementów zbioru {2, 5}\n",
        "print(find(a, 2))\n",
        "print(find(a, 5))\n",
        "\n",
        "# sprawdzenie root'a dla pozostałego elementu {4}\n",
        "print(find(a, 4))\n"
      ],
      "execution_count": null,
      "outputs": [
        {
          "output_type": "stream",
          "text": [
            "[1, 3, -1, -1, -1, 2]\n",
            "[3, 3, 2, 3, 4, 2]\n",
            "3\n",
            "3\n",
            "3\n",
            "2\n",
            "2\n",
            "4\n"
          ],
          "name": "stdout"
        }
      ]
    }
  ]
}